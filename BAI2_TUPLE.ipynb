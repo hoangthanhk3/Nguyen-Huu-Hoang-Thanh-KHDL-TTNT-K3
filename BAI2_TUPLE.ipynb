{
  "nbformat": 4,
  "nbformat_minor": 0,
  "metadata": {
    "colab": {
      "provenance": [],
      "collapsed_sections": [],
      "authorship_tag": "ABX9TyN0yceFOY876jynfuJVXZFs",
      "include_colab_link": true
    },
    "kernelspec": {
      "name": "python3",
      "display_name": "Python 3"
    },
    "language_info": {
      "name": "python"
    }
  },
  "cells": [
    {
      "cell_type": "markdown",
      "metadata": {
        "id": "view-in-github",
        "colab_type": "text"
      },
      "source": [
        "<a href=\"https://colab.research.google.com/github/hoangthanhk3/Nguyen-Huu-Hoang-Thanh-KHDL-TTNT-K3/blob/main/BAI2_TUPLE.ipynb\" target=\"_parent\"><img src=\"https://colab.research.google.com/assets/colab-badge.svg\" alt=\"Open In Colab\"/></a>"
      ]
    },
    {
      "cell_type": "code",
      "execution_count": 19,
      "metadata": {
        "colab": {
          "base_uri": "https://localhost:8080/"
        },
        "id": "PWC8gPMFmoNa",
        "outputId": "33e1be00-66a4-46a8-cb8e-3c5694a749e1"
      },
      "outputs": [
        {
          "output_type": "stream",
          "name": "stdout",
          "text": [
            "(12, 45, -1, -0.56, 'abc', True)\n"
          ]
        }
      ],
      "source": [
        "t = (12, 45, -1, -0.56, \"abc\", True) \n",
        "print(t)\n"
      ]
    },
    {
      "cell_type": "code",
      "source": [
        "print(t[-1],t[0])"
      ],
      "metadata": {
        "colab": {
          "base_uri": "https://localhost:8080/"
        },
        "id": "8Nn945WroNno",
        "outputId": "caf1e4de-01f0-4dfa-9a20-99ce8bd90af0"
      },
      "execution_count": 20,
      "outputs": [
        {
          "output_type": "stream",
          "name": "stdout",
          "text": [
            "True 12\n"
          ]
        }
      ]
    },
    {
      "cell_type": "code",
      "source": [
        "t[:4]"
      ],
      "metadata": {
        "colab": {
          "base_uri": "https://localhost:8080/"
        },
        "id": "q8kvnbpim3Vh",
        "outputId": "7ce8de13-395c-4979-d762-d51f1bde0aac"
      },
      "execution_count": 21,
      "outputs": [
        {
          "output_type": "execute_result",
          "data": {
            "text/plain": [
              "(12, 45, -1, -0.56)"
            ]
          },
          "metadata": {},
          "execution_count": 21
        }
      ]
    },
    {
      "cell_type": "code",
      "source": [
        "t[2:]"
      ],
      "metadata": {
        "colab": {
          "base_uri": "https://localhost:8080/"
        },
        "id": "4H45zNZ_oIow",
        "outputId": "3dedd5e7-43d0-49d2-ec54-38f1c5e89d8f"
      },
      "execution_count": 22,
      "outputs": [
        {
          "output_type": "execute_result",
          "data": {
            "text/plain": [
              "(-1, -0.56, 'abc', True)"
            ]
          },
          "metadata": {},
          "execution_count": 22
        }
      ]
    },
    {
      "cell_type": "code",
      "source": [
        "list(t)"
      ],
      "metadata": {
        "colab": {
          "base_uri": "https://localhost:8080/"
        },
        "id": "_s4S3JEOoyRg",
        "outputId": "36ba16e7-c2a1-4cb5-db45-cd164180f281"
      },
      "execution_count": 25,
      "outputs": [
        {
          "output_type": "execute_result",
          "data": {
            "text/plain": [
              "[12, 45, -1, -0.56, 'abc', True]"
            ]
          },
          "metadata": {},
          "execution_count": 25
        }
      ]
    }
  ]
}