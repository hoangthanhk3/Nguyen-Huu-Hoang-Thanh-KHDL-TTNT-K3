{
  "nbformat": 4,
  "nbformat_minor": 0,
  "metadata": {
    "colab": {
      "provenance": [],
      "authorship_tag": "ABX9TyMicUq1SU8FpIe9zZvfRQwW",
      "include_colab_link": true
    },
    "kernelspec": {
      "name": "python3",
      "display_name": "Python 3"
    },
    "language_info": {
      "name": "python"
    }
  },
  "cells": [
    {
      "cell_type": "markdown",
      "metadata": {
        "id": "view-in-github",
        "colab_type": "text"
      },
      "source": [
        "<a href=\"https://colab.research.google.com/github/hoangthanhk3/Nguyen-Huu-Hoang-Thanh-KHDL-TTNT-K3/blob/main/Copy_of_BAI3_SET.ipynb\" target=\"_parent\"><img src=\"https://colab.research.google.com/assets/colab-badge.svg\" alt=\"Open In Colab\"/></a>"
      ]
    },
    {
      "cell_type": "code",
      "execution_count": null,
      "metadata": {
        "colab": {
          "base_uri": "https://localhost:8080/"
        },
        "id": "Su_Qjqc2p7ec",
        "outputId": "45e3a564-1965-4ca7-96ef-227c7d0fc536"
      },
      "outputs": [
        {
          "output_type": "stream",
          "name": "stdout",
          "text": [
            "A= {'NNLT Python', 'Thể dục', 'Đại số tuyến tính', 'Tiếng Anh chuyên ngành'}\n",
            "B= {'Đại số tuyến tính', 'Recommender Systems', 'Natural Language Processing', 'Computer  vision', 'Học Máy', 'NNLT Python', 'Tối ưu hóa', 'Học sâu'}\n"
          ]
        }
      ],
      "source": [
        "A = {'NNLT Python', 'Đại số tuyến tính', 'Tiếng Anh chuyên ngành', 'Thể dục'}\n",
        "B = {'NNLT Python', 'Đại số tuyến tính', 'Tối ưu hóa', 'Học Máy', 'Học sâu', 'Computer  vision', 'Natural Language Processing', 'Recommender Systems'}\n",
        "print('A=',A)\n",
        "print('B=',B)"
      ]
    },
    {
      "cell_type": "code",
      "source": [
        "print('A ∪ B=', A.union(B))"
      ],
      "metadata": {
        "colab": {
          "base_uri": "https://localhost:8080/"
        },
        "id": "Q9vXWkecrb4f",
        "outputId": "3e7ea223-18f7-45d1-b93c-a2d0b6d12860"
      },
      "execution_count": null,
      "outputs": [
        {
          "output_type": "stream",
          "name": "stdout",
          "text": [
            "A ∪ B= {'Thể dục', 'Đại số tuyến tính', 'Recommender Systems', 'Natural Language Processing', 'Computer  vision', 'Học Máy', 'NNLT Python', 'Tối ưu hóa', 'Học sâu', 'Tiếng Anh chuyên ngành'}\n"
          ]
        }
      ]
    },
    {
      "cell_type": "code",
      "source": [
        "print('A ∩ B=', A.intersection(B))"
      ],
      "metadata": {
        "colab": {
          "base_uri": "https://localhost:8080/"
        },
        "id": "Ie7THsHCsUO4",
        "outputId": "a4d5776e-d41f-4609-8b42-ef24a525dcb5"
      },
      "execution_count": null,
      "outputs": [
        {
          "output_type": "stream",
          "name": "stdout",
          "text": [
            "A ∩ B= {'NNLT Python', 'Đại số tuyến tính'}\n"
          ]
        }
      ]
    },
    {
      "cell_type": "code",
      "source": [
        "print('A \\ B=', A.difference(B))"
      ],
      "metadata": {
        "colab": {
          "base_uri": "https://localhost:8080/"
        },
        "id": "a_frahfNsoOP",
        "outputId": "3279fce5-4ae3-4fee-c6fb-84afedc6f50e"
      },
      "execution_count": null,
      "outputs": [
        {
          "output_type": "stream",
          "name": "stdout",
          "text": [
            "A \\ B= {'Thể dục', 'Tiếng Anh chuyên ngành'}\n"
          ]
        }
      ]
    },
    {
      "cell_type": "code",
      "source": [
        "print('B \\ A=', B.difference(A))"
      ],
      "metadata": {
        "colab": {
          "base_uri": "https://localhost:8080/"
        },
        "id": "WM7STlUxsvkP",
        "outputId": "92a3c3e1-f9eb-4a16-c17d-2e0f57f5223e"
      },
      "execution_count": null,
      "outputs": [
        {
          "output_type": "stream",
          "name": "stdout",
          "text": [
            "B \\ A= {'Recommender Systems', 'Natural Language Processing', 'Computer  vision', 'Học Máy', 'Tối ưu hóa', 'Học sâu'}\n"
          ]
        }
      ]
    },
    {
      "cell_type": "code",
      "source": [
        "x = [1, 1, 1, 2, 2, 3, 3 ,3, 4 ,5 ,6, 7]\n",
        "print(x)"
      ],
      "metadata": {
        "colab": {
          "base_uri": "https://localhost:8080/"
        },
        "id": "UDt85K26s6pA",
        "outputId": "c7815cd3-c930-4695-c33e-d20b02811a91"
      },
      "execution_count": null,
      "outputs": [
        {
          "output_type": "stream",
          "name": "stdout",
          "text": [
            "[1, 1, 1, 2, 2, 3, 3, 3, 4, 5, 6, 7]\n"
          ]
        }
      ]
    },
    {
      "cell_type": "code",
      "source": [
        "x = set(x)\n",
        "print(x)"
      ],
      "metadata": {
        "colab": {
          "base_uri": "https://localhost:8080/"
        },
        "id": "aOwVa-SvtCwG",
        "outputId": "c80a5f4b-46f8-4eda-cd42-35fa065c4314"
      },
      "execution_count": null,
      "outputs": [
        {
          "output_type": "stream",
          "name": "stdout",
          "text": [
            "{1, 2, 3, 4, 5, 6, 7}\n"
          ]
        }
      ]
    }
  ]
}